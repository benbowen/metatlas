{
 "metadata": {
  "name": "",
  "signature": "sha256:a82c80fd07f133540b933422ade201377ba04b00bdfe54714136cafe7ea82f4f"
 },
 "nbformat": 3,
 "nbformat_minor": 0,
 "worksheets": [
  {
   "cells": [
    {
     "cell_type": "heading",
     "level": 1,
     "metadata": {},
     "source": [
      "Chapter 3.  Analyzing the Results of an Experiment"
     ]
    },
    {
     "cell_type": "code",
     "collapsed": false,
     "input": [
      "%matplotlib inline\n",
      "%config InlineBackend.figure_format = 'svg' \n",
      "from matplotlib import pyplot as plt\n",
      "import requests, json\n",
      "import numpy as np\n",
      "import sys\n",
      "import os\n",
      "sys.path.append( '/Users/bpb/Data/programming/MetaboliteAtlas/github/metatlas/' )\n",
      "import metatlas\n",
      "from bokeh.plotting import *\n",
      "output_notebook()"
     ],
     "language": "python",
     "metadata": {},
     "outputs": []
    },
    {
     "cell_type": "code",
     "collapsed": false,
     "input": [
      "#read in the output from the previous chapter\n",
      "import csv\n",
      "filename = '/Users/bpb/Data/programming/MetaboliteAtlas/github/metatlas/Chapter2/output.txt'\n",
      "with open(filename,'rU') as file_object:\n",
      "    payload = list(csv.DictReader(file_object, dialect='excel-tab'))\n"
     ],
     "language": "python",
     "metadata": {},
     "outputs": []
    },
    {
     "cell_type": "code",
     "collapsed": false,
     "input": [
      "metatlas = reload(metatlas)\n",
      "myFiles = payload[0].keys()\n",
      "myFiles.remove('compound')\n",
      "myFiles = filter(None, myFiles)\n",
      "for compound in payload:\n",
      "    for key in myFiles:\n",
      "#         print float(compound[key])\n",
      "        compound[key] = float(compound[key])\n",
      "print payload[0]\n",
      "# fileInfo = metatlas.splitFileListAcrossTwoDimensions(myFiles)\n",
      "# print fileInfo\n",
      "\n",
      "    \n"
     ],
     "language": "python",
     "metadata": {},
     "outputs": []
    },
    {
     "cell_type": "code",
     "collapsed": false,
     "input": [
      "import re\n",
      "# myCompound = payload[5]\n",
      "for myCompound in payload:\n",
      "    print myCompound['compound']\n",
      "    myVals = []\n",
      "    for i,myFile in enumerate(myCompound.keys()):\n",
      "        if re.search('_RT_',myFile):\n",
      "            m = re.search('140905_(.+?)_\\d_RT', myFile)\n",
      "            if m:\n",
      "                myVals.append((float(m.group(1).replace('_','.')), myCompound[myFile]))\n",
      "    myVals = sorted(myVals, key=lambda x: x[0]) \n",
      "\n",
      "    from itertools import groupby\n",
      "\n",
      "    data_to_plot = []\n",
      "    groupName = []\n",
      "    for key, group in groupby(myVals, lambda x: x[0]):\n",
      "        L = list(zip(*group)[1])\n",
      "        data_to_plot.append(L)\n",
      "        groupName.append(key)\n",
      "\n",
      "    fig = plt.figure(1, figsize=(9, 6))\n",
      "    ax = fig.add_subplot(111)\n",
      "    bp = ax.boxplot(data_to_plot)\n",
      "    ax.set_xticklabels(groupName)\n",
      "    ax.set_title(myCompound['compound'])\n",
      "    fig.savefig(myCompound['compound']+'.pdf')\n",
      "    fig.clear()\n"
     ],
     "language": "python",
     "metadata": {},
     "outputs": []
    },
    {
     "cell_type": "code",
     "collapsed": false,
     "input": [
      "M = np.zeros((len(payload),len(myFiles)))\n",
      "for i,compound in enumerate(payload):\n",
      "    for j,file in enumerate(myFiles):\n",
      "        M[i,j] = payload[i][file]"
     ],
     "language": "python",
     "metadata": {},
     "outputs": []
    },
    {
     "cell_type": "code",
     "collapsed": false,
     "input": [
      "idx = []\n",
      "for i,myFile in fileInfo['temp']:\n",
      "    if myFile\n",
      "idx = dir(fileInfo['temp'])\n",
      "\n",
      "print idx"
     ],
     "language": "python",
     "metadata": {},
     "outputs": []
    },
    {
     "cell_type": "code",
     "collapsed": false,
     "input": [],
     "language": "python",
     "metadata": {},
     "outputs": []
    }
   ],
   "metadata": {}
  }
 ]
}