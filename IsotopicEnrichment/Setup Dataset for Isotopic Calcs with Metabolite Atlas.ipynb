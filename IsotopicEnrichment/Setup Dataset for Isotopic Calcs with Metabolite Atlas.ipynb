{
 "cells": [
  {
   "cell_type": "code",
   "execution_count": 1,
   "metadata": {
    "collapsed": true
   },
   "outputs": [],
   "source": [
    "# import all the required packages and modules\n",
    "%matplotlib inline\n",
    "%config InlineBackend.figure_format = 'svg' \n",
    "from matplotlib import pyplot as plt\n",
    "import requests, json\n",
    "import numpy as np\n",
    "import sys\n",
    "import os\n",
    "\n",
    "# path to where you put the metatlas.py file:\n",
    "sys.path.append( '/Users/bpb/Data/programming/MetaboliteAtlas/github/metatlas/' )\n",
    "import metatlas\n",
    "import re\n",
    "import csv"
   ]
  },
  {
   "cell_type": "code",
   "execution_count": 2,
   "metadata": {
    "collapsed": false
   },
   "outputs": [
    {
     "name": "stdout",
     "output_type": "stream",
     "text": [
      "········\n",
      "[u'name', u'compounds', u'creator', u'creation_date', u'sample', u'_id', u'method']\n"
     ]
    }
   ],
   "source": [
    "client = requests.Session()\n",
    "client = metatlas.authenticateUser(client,'bpb')\n",
    "\n",
    "#### edit the myExperimentID string ####\n",
    "myExperimentID = '5524364cf207834b9656cd97'\n",
    "# Get the entries for a specific dictionary\n",
    "dictId = '55256a417626400162911485'\n",
    "\n",
    "#Get the Atlas to make sure you properly authenticated and are authorized\n",
    "url = 'https://metatlas.nersc.gov/api/dict/%s/' % dictId\n",
    "r = client.get(url)\n",
    "dictData = json.loads(r.text)\n",
    "print dictData.keys()"
   ]
  },
  {
   "cell_type": "code",
   "execution_count": 5,
   "metadata": {
    "collapsed": false
   },
   "outputs": [],
   "source": [
    "# # Share the experiment and dictionary with another user.\n",
    "# payload = {\"user\":'username',\"perms\":[\"read\",\"write\"]}\n",
    "# sendData=json.dumps(payload)\n",
    "# url = 'https://metatlas.nersc.gov/api/experiment/%s/share/' % myExperimentID\n",
    "# r = client.post(url, data=sendData)\n",
    "# print r.content\n",
    "# url = 'https://metatlas.nersc.gov/api/dict/%s/share/' % dictId\n",
    "# r = client.post(url, data=sendData)\n",
    "# print r.content"
   ]
  },
  {
   "cell_type": "code",
   "execution_count": 6,
   "metadata": {
    "collapsed": true
   },
   "outputs": [],
   "source": [
    "# url = 'https://metatlas.nersc.gov/api/experiment/%s' % myExperimentID\n",
    "# r = client.get(url)\n",
    "# files = json.loads(r.content)\n",
    "# fileInfo = {'fid':[],'name':[],'status':[]};\n",
    "# fid = open('fileInfo_herlperFile.tab','wb')\n",
    "# fid.write('index\\tstatus\\tname\\tfid\\tpolarity\\tgroup\\tinclusion_order\\tnormalization_factor\\tretention_correction\\n')\n",
    "# for i,myRun in enumerate(files[u'runs']):\n",
    "#     splitPathToFile = os.path.split(myRun[u'in_file'])\n",
    "#     fid.write('%d\\t%d\\t%s\\t%d\\tpos\\tgroup1\\n' % (i,myRun[u'pending'],splitPathToFile[1],myRun[u'_id'][u'file_id']))\n",
    "#     if myRun[u'pending'] == 0:\n",
    "#         fileInfo['fid'].append(myRun[u'_id'][u'file_id'])\n",
    "#         fileInfo['name'].append(splitPathToFile[1])\n",
    "#         fileInfo['status'].append(myRun[u'pending']) #only keep if status is 0\n",
    "# pathYouWant = splitPathToFile[0] # TODO: we will have to see what this will do on a window's computer.  taking a linux path and using os.\n",
    "# fid.close()"
   ]
  },
  {
   "cell_type": "code",
   "execution_count": 6,
   "metadata": {
    "collapsed": true
   },
   "outputs": [],
   "source": [
    "# import the fileInfo sheet with annotated group information, polarity, and plot order\n",
    "url = 'https://metatlas.nersc.gov/api/experiment/%s' % myExperimentID\n",
    "r = client.get(url)\n",
    "files = json.loads(r.content)\n",
    "myArray = files[u'runs'][0][u'_id'][u'array_name']\n",
    "\n",
    "filename = 'caj_fileInfo_practice.txt'\n",
    "with open(filename,'rU') as file_object:\n",
    "    newfileInfo = list(csv.DictReader(file_object, dialect='excel-tab'))\n",
    "keys = newfileInfo[0].iterkeys()\n",
    "fileInfo = {key: [d[key] for d in newfileInfo] for key in keys}\n",
    "fileInfo['fid'] = map(int, fileInfo['fid'])\n",
    "fileInfo['index'] = map(int, fileInfo['index'])\n",
    "fileInfo['inclusion_order'] = map(int, fileInfo['inclusion_order'])\n",
    "fileInfo['status'] = map(int, fileInfo['status'])\n",
    "fileInfo['normalization_factor'] = map(float, fileInfo['normalization_factor'])\n",
    "# fileInfo['retention_correction'] = map(float, fileInfo['retention_correction'])\n",
    "\n",
    "idx = np.argsort(fileInfo['inclusion_order'])\n",
    "export_fileIds = np.asarray(fileInfo['fid'])[idx]"
   ]
  },
  {
   "cell_type": "code",
   "execution_count": 9,
   "metadata": {
    "collapsed": false
   },
   "outputs": [],
   "source": [
    "# #add compounds to an atlas from a well formated spreadsheet that are new and\n",
    "# #update any that were already there, but have changed\n",
    "# # filename = 'example_metatlas_spreadsheet.txt'\n",
    "# filename = 'metatlas_spreadsheet_CN20150406.txt'\n",
    "# with open(filename,'rU') as file_object:\n",
    "#     sheetData = list(csv.DictReader(file_object, dialect='excel-tab'))\n",
    "\n",
    "# url = 'https://metatlas.nersc.gov/api/dict/%s/' % dictId\n",
    "# r = client.get(url)\n",
    "# dictData = json.loads(r.text)\n",
    "\n",
    "# for compound in sheetData:\n",
    "# #     print compound\n",
    "#     cID = filter( lambda x: x[u'name']==compound['name'], dictData[u'compounds'])\n",
    "# #     print cID\n",
    "#     if not cID:\n",
    "#         # a new entry is created if that compound name doesn't exist\n",
    "#         url = 'https://metatlas.nersc.gov/api/dict/%s/' % dictId\n",
    "#         print compound\n",
    "#         r = client.post(url, data=json.dumps([compound]))\n",
    "#         print(r.text)\n",
    "#     else:\n",
    "#         # edit the entry if it already exists\n",
    "#         url = 'https://metatlas.nersc.gov/api/compound/%s/' % cID[0][u'_id']\n",
    "#         r = client.patch(url, data=json.dumps(compound))\n",
    "#         print(r.text)\n",
    "# url = 'https://metatlas.nersc.gov/api/dict/%s/' % dictId\n",
    "# r = client.get(url)\n",
    "# dictData = json.loads(r.text)  "
   ]
  },
  {
   "cell_type": "code",
   "execution_count": 7,
   "metadata": {
    "collapsed": false
   },
   "outputs": [
    {
     "name": "stdout",
     "output_type": "stream",
     "text": [
      "28499,28488\n",
      "0\n",
      "1\n",
      "2\n",
      "3\n",
      "4\n"
     ]
    }
   ],
   "source": [
    "import time\n",
    "polarity = 1\n",
    "extraTime = 0.3\n",
    "data = [[] for i in range(len(dictData[u'compounds']))]\n",
    "myList = ','.join(map(str, export_fileIds))\n",
    "print myList\n",
    "for i,compound in enumerate(dictData[u'compounds']):\n",
    "    for j in range(7):\n",
    "        temp = compound.copy()\n",
    "        temp['mz'] = float(temp['mz']) + float(j)*1.003355 #this isn't really right because we have deuterium not carbon\n",
    "        data[i].append(metatlas.getEICForCompounds(temp,myArray,export_fileIds,extraTime,client,polarity))\n",
    "        time.sleep(1)\n",
    "    print i\n"
   ]
  },
  {
   "cell_type": "code",
   "execution_count": 8,
   "metadata": {
    "collapsed": true
   },
   "outputs": [],
   "source": [
    "# pickle the data incase you need it offline\n",
    "metatlas_data = {'dictId':dictId,'myExperimentID':myExperimentID,'dictData':dictData, 'data':data,'fileInfo':fileInfo,'myList':myList,'export_fileIds':export_fileIds}\n",
    "import pickle\n",
    "pickle.dump( metatlas_data, open( \"50ppm_caj_data_practice_metatas_isotopes.pkl\", \"wb\" ) )"
   ]
  },
  {
   "cell_type": "code",
   "execution_count": null,
   "metadata": {
    "collapsed": true
   },
   "outputs": [],
   "source": []
  }
 ],
 "metadata": {
  "kernelspec": {
   "display_name": "Python 2",
   "language": "python",
   "name": "python2"
  },
  "language_info": {
   "codemirror_mode": {
    "name": "ipython",
    "version": 2
   },
   "file_extension": ".py",
   "mimetype": "text/x-python",
   "name": "python",
   "nbconvert_exporter": "python",
   "pygments_lexer": "ipython2",
   "version": "2.7.9"
  }
 },
 "nbformat": 4,
 "nbformat_minor": 0
}
