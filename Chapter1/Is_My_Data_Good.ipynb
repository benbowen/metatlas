{
 "metadata": {
  "name": "",
  "signature": "sha256:788cba20fa398f2aa47636054b47fdf867fd87fda36842bcdaaffb258b65c1b5"
 },
 "nbformat": 3,
 "nbformat_minor": 0,
 "worksheets": [
  {
   "cells": [
    {
     "cell_type": "heading",
     "level": 1,
     "metadata": {},
     "source": [
      "Chapter 1.  Do I have to redo my experiments?"
     ]
    },
    {
     "cell_type": "markdown",
     "metadata": {},
     "source": [
      "Welcome to this introduction to the programmetic access capabilities for Metabolite Atlas. The full Github repository is available at https://github.com/benbowen/metatlas. \n",
      "\n",
      "Other resources can be found at the project's homepage: https://metatlas.nersc.gov/\n",
      "\n",
      "In this chapter we will establish the controls that are followed to help ensure a successful experiment.\n",
      "\n",
      "<ul>\n",
      "<li>OD biomass, check growth.  Measure OD on the nanodrop or with cuvette.  Relative tofresh media.  Discuss the upper bounds of a machine.\n",
      "<ul><li><strong>Evidence: the OD of the growth culure and the control cultures vs the fresh media</strong></li></li></ul>\n",
      "\n",
      "<li>Extraction method and filtered\n",
      "<ul><li><strong>Evidence: visual inspection\u2026 common sense\u2026 color\u2026 pellet\u2026 lost in lyophilizer</strong></li></li></ul>\n",
      "\n",
      "<li>Make sure instrument is operational\n",
      "<ul><li><strong>Evidence: tune and lc parameter check before doing run\u2026 pump\u2026 columns.. etc</strong></li></li></ul>\n",
      "\n",
      "<li>Is my worklist correct?\n",
      "<ol><strong>\n",
      "    <li>filenames</li>\n",
      "    <li>randomized order</li>\n",
      "    <li>blanks</li>\n",
      "    <li>Quality Controls</li>\n",
      "    <li>Shutdown Script</li>\n",
      "    </strong>\n",
      "</ol>\n",
      "</li>\n",
      "\n",
      "<li>Did my samples run correctly \n",
      "<ul><li><strong>Evidence: ISTD peak area, rt, mz in all files\u2026. TIC user evaluation for rt stability, baseline reporoducilbity, signal intensity.</strong></li></li></ul>\n",
      "\n",
      "<li>Are my biological replicates reproducible\n",
      "Same as \u201cdid my samples run correctly\u201d but for grouped replicates only. \n",
      "<ul><li><strong>Evidence: If you have 4 biological replicates, are all the tics withing 20% in terms of intensity</li></li></ul>\n",
      "</ul></strong>"
     ]
    },
    {
     "cell_type": "heading",
     "level": 2,
     "metadata": {},
     "source": [
      "Growth of microbial cultures: Culturing and biomass measurement"
     ]
    },
    {
     "cell_type": "markdown",
     "metadata": {},
     "source": [
      "\n",
      "Check to make sure that your culture has grown in the media. If this is a planktonic culture, then the easiest way to do this is by taking the OD600. There are two ways to do this in the lab\n",
      "Spectrophotometry using a cuvette\n",
      "Dilute sample 1/10 (900 ul water, 100 ul sample) in a clean plastic cuvette\n",
      "Use fresh media diluted 1/10 with water as a blank\n",
      "OD600 read should be between 0.06 and 0.1, meaning your culture has an OD600 between 0.6 and 1.0\n",
      "Spectrophotometry using a Nanodrop\n",
      "Use 2 ul of your sample on the Na nodorop"
     ]
    },
    {
     "cell_type": "heading",
     "level": 2,
     "metadata": {},
     "source": [
      "Extraction Protocols:"
     ]
    },
    {
     "cell_type": "markdown",
     "metadata": {},
     "source": [
      "Take 500 uL media and lyophilize to dryness\n",
      "\t**make sure that all tubes have dried sample and none has escaped or bumped\n",
      "Add 120 uL MeOH spiked with 5 ug/mL of an internal standard (d5-benzoic acid + d7-lysine for LCMS)\n",
      "Vortex and sonicate samples, the pellet salts @ 6000 rpm for 5 min\n",
      "Filter 100 uL of supernatant using 0.2 um spin tubes.\n",
      "Transfer flowthrough to glass vials with inserts"
     ]
    },
    {
     "cell_type": "markdown",
     "metadata": {},
     "source": [
      "<h2>Designing and running worklists</h2>\n",
      "This is a really, really, critical step. \n",
      "Pre-run set-up\n",
      "IN this order\n",
      "1. Run a blank\n",
      "2. QC mix\n",
      "3. A representative sample\n",
      "Check to make sure that\n",
      "1. The column is clean\n",
      "2. Compare QC standard intensities and RTs to previous results to make sure the instrument is tuned and the column is good \n",
      "3. Make sure that you are injecting the right amount, flat peaks= too much, few features= too little. \n",
      "Set-up worklist:\n",
      "Run a blank at the beginning of the worklist\n",
      "If you have more than ~20 samples randomize them, if fewer it is ok to run sample1rep1, sample2rep1.....sample1rep2, sample2rep2.....\n",
      "Due 3 injections of the same sample over the run\n",
      "Run QC mix at the end to check sensitivity\n",
      "Run blanks at the end to check for carryover \n",
      "Make sure to run the shutdown script and the end of the run to stop the pumps\n",
      "Set-up worklist:  \n",
      "Watch the instrument as it is running the blank and first few samples, check the data to make sure you are happy before leaving it\n",
      "Use remote desktop to check on your run.\n",
      "Checking data before analysis:\n",
      "Do everything you can to make sure you have good data before analyzing it. Crap in --> extreme effort ---> Crap out   It is much better to catch it early and redo your run. \n",
      "Odds are there was a problem with your run, before moving on, use the MASSHUNTER software to compare TICs, compare blanks before and after the run, QC mixes before and after the run (put this info in your notebook) so you are aware of the problems. The standards should have similar intensities and RTs +/- 10%. The file size of the blanks should be the same. The file sizes of all your samples should be similar and the TICs should line up. \n",
      "Common mistakes:  \n",
      "Setting up the worklist, hitting 'GO' and walking away only to come back on monday only to find out that there was a problem with the first sample\n",
      "Not connecting the column to the instrument after tuning\n",
      "Loosing lock-mass\n",
      "Forgetting to refill the solvents\n",
      "Forgetting to update the liquid levels in the software (the instrument thinks its out)\n",
      "Pressure maxes out half-way through the run\n",
      "Dirty column\n",
      "Leaks\n",
      "Injecting too little sample\n",
      "Injecting too much and having tons of carry over\n",
      "Not checking TICs on mass hunter before trying to analyze data. What's the point in analyzing data if it is moving all around or TICs increasing with each injection, etc. #1 helps avoid this but you should check before moving data off of the instrument. \n",
      "*note that almost all of these are avoided by #1 . You should watch and baby-sit your run."
     ]
    },
    {
     "cell_type": "markdown",
     "metadata": {},
     "source": [
      "Media DOC between XXX\n",
      "Largest peak 90% of saturation\n",
      "\n",
      "Begin starter cultures \n",
      "add ~300 \u00b5l R2A broth to gellan gum cultures to pick up some cells\n",
      "incubate 48 hours @ 25-30C w/ slow shaking (100 rpm)\n",
      "cover with parafilm to prevent water loss\n",
      "Inoculate cultures\n",
      "fill 96 well plates with 1.5 ml of each media\n",
      "inoculate each well with 10 \u00b5l starter culture\n",
      "incubate 48 hours @ 25-30C w/ slow shaking (100 rpm)\n",
      "Extract metabolites\n",
      "Take 50 \u00b5l of each culture and transfer to plate reader plate and take OD\n",
      "Spin down plates and remove media\n",
      "save pellet for sequencing analysis\n",
      "3.\tremove 2 aliquots (volume TBD), flash freeze and lyophilize- store 2nd dried      sample in -80C for later LC/MS analysis.\n",
      "4.\tadd 100 \u00b5l methanol (containing ISTDs at 1ug/ml) to dried sample\n",
      "5.\tcentrifuge @ 6000 rpm for 5 minutes\n",
      "6.\tfilter supernatant with 0.2 \u00b5m spin filter (6000 rpm for 5 min)\n",
      "7.\tDry down liquid in speed vac\n",
      "8.\tderivatize dried samples\n",
      "\n",
      "Add LC-MS internal standards\n",
      "Calibrate,  check-tune, equilibrate column. https://commons.lbl.gov/display/mcpwiki/20111004_HILIC+Method\n",
      "VIII.\tRun Blank, QC, record peak areas, resolutions\n",
      "\n",
      "IX.\tRun work list, Randomize samples, QCs every 10 samples (https://commons.lbl.gov/pages/viewpage.action?pageId=80937945)\n",
      "\n",
      "X.\tIf QC peak areas  within X\n",
      "QC CVs within 20%\n",
      "Transfer to MetaboliteAtlas (and labshare?)\n",
      "\n",
      "If not, use QCs to diagnose problem step. \n",
      "\n",
      "XI.\tCreate IPython Notebook that includes in chapter 1:\n",
      "Biological sample information\n",
      "Environmental information\n",
      "Culture details and observations\n",
      "Extraction protocol ID\n",
      "LC-MS protocol ID"
     ]
    }
   ],
   "metadata": {}
  }
 ]
}