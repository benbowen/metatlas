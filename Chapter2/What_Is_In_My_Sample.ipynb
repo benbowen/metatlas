{
 "metadata": {
  "name": "",
  "signature": "sha256:40a00c4b8303e6b78cfad91d62ed1e5cbf348ff51838c542a978f0836ffbb7d0"
 },
 "nbformat": 3,
 "nbformat_minor": 0,
 "worksheets": [
  {
   "cells": [
    {
     "cell_type": "code",
     "collapsed": false,
     "input": [
      "Chapter 2.  What\u2019s in my sample\n",
      "Ben: get the \n",
      "FILES: Becca and Stefan will give Ben\n",
      "3 m9+bsc media\n",
      "3 m9+bsc media with tbd bug\n",
      "2 of the best cassettes"
     ],
     "language": "python",
     "metadata": {},
     "outputs": []
    }
   ],
   "metadata": {}
  }
 ]
}